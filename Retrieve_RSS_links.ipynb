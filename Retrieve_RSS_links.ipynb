{
 "cells": [
  {
   "cell_type": "code",
   "execution_count": null,
   "metadata": {},
   "outputs": [],
   "source": [
    "import pickle\n",
    "import pandas as pd\n",
    "import numpy as np\n",
    "import pymongo\n",
    "import json\n",
    "import pprint\n",
    "import requests\n",
    "import time\n",
    "from pymongo.errors import BulkWriteError"
   ]
  },
  {
   "cell_type": "markdown",
   "metadata": {},
   "source": [
    "## Use the entries in our database to retrieve the RSS feeds through the iTunes API\n",
    "With the first batch of data in the database we can start retrieving the RSS feeds from Apple. Later we will use the RSS info to get the epsiodes of each podcast. However, the first thing we do is to add another index to the data base. The entries in the podcast collection received a unique identifier when they were inserted, but we want to also have a unique entry for every iTunes ID. "
   ]
  },
  {
   "cell_type": "code",
   "execution_count": null,
   "metadata": {},
   "outputs": [],
   "source": [
    "# connect to cloud data base\n",
    "mongo_db_login_string = pickle.load( open( 'podcast-scraping/mongo_db_login_string.pickle', \"rb\" ) )"
   ]
  },
  {
   "cell_type": "code",
   "execution_count": null,
   "metadata": {},
   "outputs": [],
   "source": [
    "client = pymongo.MongoClient(mongo_db_login_string)"
   ]
  },
  {
   "cell_type": "code",
   "execution_count": null,
   "metadata": {},
   "outputs": [],
   "source": [
    "db = client.podcasts"
   ]
  },
  {
   "cell_type": "code",
   "execution_count": null,
   "metadata": {},
   "outputs": [],
   "source": [
    "# try to get podcast collection\n",
    "collection = db.podcast"
   ]
  },
  {
   "cell_type": "code",
   "execution_count": null,
   "metadata": {},
   "outputs": [],
   "source": [
    "# add index to the podcast collection using the itunes_id entry\n",
    "result = db.podcast.create_index([('itunes_id', pymongo.ASCENDING)], unique=True)"
   ]
  },
  {
   "cell_type": "code",
   "execution_count": null,
   "metadata": {},
   "outputs": [],
   "source": []
  },
  {
   "cell_type": "code",
   "execution_count": null,
   "metadata": {},
   "outputs": [],
   "source": [
    "query_results = collection.find( { \"rss_feed\":None } ).limit(20)"
   ]
  },
  {
   "cell_type": "code",
   "execution_count": null,
   "metadata": {},
   "outputs": [],
   "source": [
    "id_list = [item['itunes_id'] for item in query_results]"
   ]
  },
  {
   "cell_type": "code",
   "execution_count": null,
   "metadata": {},
   "outputs": [],
   "source": [
    "id_list"
   ]
  },
  {
   "cell_type": "code",
   "execution_count": null,
   "metadata": {},
   "outputs": [],
   "source": [
    "rss_dict = {}\n",
    "for id in id_list:\n",
    "    \n",
    "    itunes_search_link = 'https://itunes.apple.com/lookup?id=' + id.replace('id', '')\n",
    "    \n",
    "    search_request = requests.get(itunes_search_link).json()\n",
    "    \n",
    "    # insert feed into dict\n",
    "    rss_dict[id] = search_request['results'][0]['feedUrl']\n"
   ]
  },
  {
   "cell_type": "code",
   "execution_count": null,
   "metadata": {},
   "outputs": [],
   "source": [
    "search_request = requests.get(itunes_search_link).json()"
   ]
  },
  {
   "cell_type": "code",
   "execution_count": null,
   "metadata": {},
   "outputs": [],
   "source": [
    "search_request"
   ]
  },
  {
   "cell_type": "code",
   "execution_count": null,
   "metadata": {},
   "outputs": [],
   "source": [
    "for key in rss_dict:\n",
    "    \n",
    "    result = collection.find_one_and_update(\n",
    "        {'itunes_id' : key},\n",
    "        {\"$set\":\n",
    "            {'rss_feed': rss_dict[key]}\n",
    "        },upsert=True\n",
    "    )"
   ]
  },
  {
   "cell_type": "markdown",
   "metadata": {},
   "source": [
    "This for loop retrieves entries in our data base that do not have rss feed information, retrieves the links through the itunes API and inserts the information into the database until it is stopped. Due to the limitation of twenty API calls per minute this is also a very time consuming process and it is performed by running a script that constantly performes the aforementioned tasks. "
   ]
  },
  {
   "cell_type": "code",
   "execution_count": null,
   "metadata": {},
   "outputs": [],
   "source": [
    "counter = 0\n",
    "while True:\n",
    "    \n",
    "    query_results = collection.find( { \"rss_feed\":None } ).limit(20)\n",
    "    id_list = [item['itunes_id'] for item in query_results]\n",
    "    \n",
    "    rss_dict = {}\n",
    "    for id in id_list:\n",
    "\n",
    "        itunes_search_link = 'https://itunes.apple.com/lookup?id=' + id.replace('id', '')\n",
    "\n",
    "        search_request = requests.get(itunes_search_link).json()\n",
    "\n",
    "        # insert feed into dict\n",
    "        rss_dict[id] = search_request['results'][0]['feedUrl']\n",
    "        \n",
    "    for key in rss_dict:\n",
    "\n",
    "        result = collection.find_one_and_update(\n",
    "            {'itunes_id' : key},\n",
    "            {\"$set\":\n",
    "                {'rss_feed': rss_dict[key]}\n",
    "            },upsert=True\n",
    "        )\n",
    "        \n",
    "    counter = counter + 1\n",
    "    print(counter)\n",
    "    time.sleep(60)"
   ]
  }
 ],
 "metadata": {
  "kernelspec": {
   "display_name": "Python [conda env:spotify_env] *",
   "language": "python",
   "name": "conda-env-spotify_env-py"
  },
  "language_info": {
   "codemirror_mode": {
    "name": "ipython",
    "version": 3
   },
   "file_extension": ".py",
   "mimetype": "text/x-python",
   "name": "python",
   "nbconvert_exporter": "python",
   "pygments_lexer": "ipython3",
   "version": "3.7.7"
  }
 },
 "nbformat": 4,
 "nbformat_minor": 4
}
